{
 "cells": [
  {
   "cell_type": "code",
   "execution_count": 16,
   "id": "26630818",
   "metadata": {},
   "outputs": [],
   "source": [
    "import pandas as pd\n",
    "import numpy as np\n",
    "# For parsing stringified Python lists\n",
    "import ast  "
   ]
  },
  {
   "cell_type": "code",
   "execution_count": 17,
   "id": "fd1c49ed",
   "metadata": {},
   "outputs": [],
   "source": [
    "# Load the Dataset\n",
    "df = pd.read_csv(\"RAW_recipes.csv\")"
   ]
  },
  {
   "cell_type": "code",
   "execution_count": 18,
   "id": "301c52c2",
   "metadata": {},
   "outputs": [],
   "source": [
    "# Extracting Cooking Method\n",
    "def detect_cooking_method(step_text):\n",
    "    try:\n",
    "        text = ' '.join(ast.literal_eval(step_text)).lower()\n",
    "    except:\n",
    "        return None\n",
    "    \n",
    "    if \"grill\" in text:\n",
    "        return \"Grilled\"\n",
    "    elif \"fry\" in text:\n",
    "        return \"Fried\"\n",
    "    elif \"bake\" in text:\n",
    "        return \"Baked\"\n",
    "    elif \"boil\" in text:\n",
    "        return \"Boiled\"\n",
    "    elif \"steam\" in text:\n",
    "        return \"Steamed\"\n",
    "    else:\n",
    "        return None\n",
    "\n",
    "df[\"Cooking_Method\"] = df[\"steps\"].apply(detect_cooking_method)\n"
   ]
  },
  {
   "cell_type": "code",
   "execution_count": 19,
   "id": "be521183",
   "metadata": {},
   "outputs": [],
   "source": [
    "# Extracting Sauce Type and Flavor\n",
    "def detect_sauce_type(tags, ingredients):\n",
    "    try:\n",
    "        tags_text = ' '.join(ast.literal_eval(tags)).lower()\n",
    "    except:\n",
    "        tags_text = ''\n",
    "        \n",
    "    try:\n",
    "        ingredients_text = ' '.join(ast.literal_eval(ingredients)).lower()\n",
    "    except:\n",
    "        ingredients_text = ''\n",
    "    \n",
    "    text = tags_text + ' ' + ingredients_text\n",
    "    \n",
    "    if \"spicy\" in text:\n",
    "        return \"Spicy\"\n",
    "    elif \"sweet\" in text:\n",
    "        return \"Sweet\"\n",
    "    elif \"savory\" in text:\n",
    "        return \"Savory\"\n",
    "    elif \"sour\" in text:\n",
    "        return \"Sour\"\n",
    "    else:\n",
    "        return None\n",
    "\n",
    "df[\"Sauce_Type\"] = df.apply(lambda row: detect_sauce_type(row[\"tags\"], row[\"ingredients\"]), axis=1)\n"
   ]
  },
  {
   "cell_type": "code",
   "execution_count": 20,
   "id": "19055f44",
   "metadata": {},
   "outputs": [],
   "source": [
    "# Filtering Clean Rows\n",
    "df_cleaned = df.dropna(subset=[\"Cooking_Method\", \"Sauce_Type\"]).copy()"
   ]
  },
  {
   "cell_type": "code",
   "execution_count": 21,
   "id": "843ff34b",
   "metadata": {},
   "outputs": [],
   "source": [
    "# Adding Flavor Intensity Score for two-way ANOVA\n",
    "np.random.seed(42)  # For reproducibility\n",
    "df_cleaned[\"Flavor_Intensity_Score\"] = np.random.randint(1, 11, size=len(df_cleaned))"
   ]
  },
  {
   "cell_type": "code",
   "execution_count": 22,
   "id": "b392ab77",
   "metadata": {
    "scrolled": true
   },
   "outputs": [
    {
     "data": {
      "text/html": [
       "<div>\n",
       "<style scoped>\n",
       "    .dataframe tbody tr th:only-of-type {\n",
       "        vertical-align: middle;\n",
       "    }\n",
       "\n",
       "    .dataframe tbody tr th {\n",
       "        vertical-align: top;\n",
       "    }\n",
       "\n",
       "    .dataframe thead th {\n",
       "        text-align: right;\n",
       "    }\n",
       "</style>\n",
       "<table border=\"1\" class=\"dataframe\">\n",
       "  <thead>\n",
       "    <tr style=\"text-align: right;\">\n",
       "      <th></th>\n",
       "      <th>name</th>\n",
       "      <th>Cooking_Method</th>\n",
       "      <th>Sauce_Type</th>\n",
       "      <th>Flavor_Intensity_Score</th>\n",
       "    </tr>\n",
       "  </thead>\n",
       "  <tbody>\n",
       "    <tr>\n",
       "      <th>0</th>\n",
       "      <td>backyard style  barbecued ribs</td>\n",
       "      <td>Boiled</td>\n",
       "      <td>Spicy</td>\n",
       "      <td>7</td>\n",
       "    </tr>\n",
       "    <tr>\n",
       "      <th>1</th>\n",
       "      <td>cream  of spinach soup</td>\n",
       "      <td>Boiled</td>\n",
       "      <td>Savory</td>\n",
       "      <td>4</td>\n",
       "    </tr>\n",
       "    <tr>\n",
       "      <th>2</th>\n",
       "      <td>deep fried dessert thingys</td>\n",
       "      <td>Fried</td>\n",
       "      <td>Sweet</td>\n",
       "      <td>8</td>\n",
       "    </tr>\n",
       "    <tr>\n",
       "      <th>3</th>\n",
       "      <td>easiest ever  hollandaise sauce</td>\n",
       "      <td>Boiled</td>\n",
       "      <td>Savory</td>\n",
       "      <td>5</td>\n",
       "    </tr>\n",
       "    <tr>\n",
       "      <th>4</th>\n",
       "      <td>george s at the cove  black bean soup</td>\n",
       "      <td>Grilled</td>\n",
       "      <td>Sweet</td>\n",
       "      <td>7</td>\n",
       "    </tr>\n",
       "  </tbody>\n",
       "</table>\n",
       "</div>"
      ],
      "text/plain": [
       "                                    name Cooking_Method Sauce_Type  \\\n",
       "0         backyard style  barbecued ribs         Boiled      Spicy   \n",
       "1                 cream  of spinach soup         Boiled     Savory   \n",
       "2             deep fried dessert thingys          Fried      Sweet   \n",
       "3        easiest ever  hollandaise sauce         Boiled     Savory   \n",
       "4  george s at the cove  black bean soup        Grilled      Sweet   \n",
       "\n",
       "   Flavor_Intensity_Score  \n",
       "0                       7  \n",
       "1                       4  \n",
       "2                       8  \n",
       "3                       5  \n",
       "4                       7  "
      ]
     },
     "execution_count": 22,
     "metadata": {},
     "output_type": "execute_result"
    }
   ],
   "source": [
    "# Final Dataset for Analysis\n",
    "df_final = df_cleaned[[\"name\", \"Cooking_Method\", \"Sauce_Type\", \"Flavor_Intensity_Score\"]].reset_index(drop=True)\n",
    "df_final.head()"
   ]
  },
  {
   "cell_type": "code",
   "execution_count": 23,
   "id": "6c33ad39",
   "metadata": {},
   "outputs": [],
   "source": [
    "# Group by the two categorical factors\n",
    "grouped = df_final.groupby([\"Cooking_Method\", \"Sauce_Type\"])\n",
    "\n",
    "# Sample 3 rows per group to get a balanced design (3 observations per group)\n",
    "df_balanced = grouped.apply(lambda x: x.sample(n=3, random_state=42)).reset_index(drop=True)\n"
   ]
  },
  {
   "cell_type": "code",
   "execution_count": 24,
   "id": "84a14c7c",
   "metadata": {},
   "outputs": [
    {
     "name": "stdout",
     "output_type": "stream",
     "text": [
      "(60, 4)\n"
     ]
    },
    {
     "data": {
      "text/html": [
       "<div>\n",
       "<style scoped>\n",
       "    .dataframe tbody tr th:only-of-type {\n",
       "        vertical-align: middle;\n",
       "    }\n",
       "\n",
       "    .dataframe tbody tr th {\n",
       "        vertical-align: top;\n",
       "    }\n",
       "\n",
       "    .dataframe thead th {\n",
       "        text-align: right;\n",
       "    }\n",
       "</style>\n",
       "<table border=\"1\" class=\"dataframe\">\n",
       "  <thead>\n",
       "    <tr style=\"text-align: right;\">\n",
       "      <th></th>\n",
       "      <th>name</th>\n",
       "      <th>Cooking_Method</th>\n",
       "      <th>Sauce_Type</th>\n",
       "      <th>Flavor_Intensity_Score</th>\n",
       "    </tr>\n",
       "  </thead>\n",
       "  <tbody>\n",
       "    <tr>\n",
       "      <th>0</th>\n",
       "      <td>beef and italian sausage casserole</td>\n",
       "      <td>Baked</td>\n",
       "      <td>Savory</td>\n",
       "      <td>7</td>\n",
       "    </tr>\n",
       "    <tr>\n",
       "      <th>1</th>\n",
       "      <td>tex mex brisket</td>\n",
       "      <td>Baked</td>\n",
       "      <td>Savory</td>\n",
       "      <td>6</td>\n",
       "    </tr>\n",
       "    <tr>\n",
       "      <th>2</th>\n",
       "      <td>perfect spiced roast goose</td>\n",
       "      <td>Baked</td>\n",
       "      <td>Savory</td>\n",
       "      <td>10</td>\n",
       "    </tr>\n",
       "    <tr>\n",
       "      <th>3</th>\n",
       "      <td>too easy loaded potato casserole</td>\n",
       "      <td>Baked</td>\n",
       "      <td>Sour</td>\n",
       "      <td>1</td>\n",
       "    </tr>\n",
       "    <tr>\n",
       "      <th>4</th>\n",
       "      <td>tex mex tuna casserole</td>\n",
       "      <td>Baked</td>\n",
       "      <td>Sour</td>\n",
       "      <td>5</td>\n",
       "    </tr>\n",
       "  </tbody>\n",
       "</table>\n",
       "</div>"
      ],
      "text/plain": [
       "                                 name Cooking_Method Sauce_Type  \\\n",
       "0  beef and italian sausage casserole          Baked     Savory   \n",
       "1                     tex mex brisket          Baked     Savory   \n",
       "2          perfect spiced roast goose          Baked     Savory   \n",
       "3    too easy loaded potato casserole          Baked       Sour   \n",
       "4              tex mex tuna casserole          Baked       Sour   \n",
       "\n",
       "   Flavor_Intensity_Score  \n",
       "0                       7  \n",
       "1                       6  \n",
       "2                      10  \n",
       "3                       1  \n",
       "4                       5  "
      ]
     },
     "execution_count": 24,
     "metadata": {},
     "output_type": "execute_result"
    }
   ],
   "source": [
    "# Should show 27 rows if 3x3 is achieved\n",
    "print(df_balanced.shape)\n",
    "\n",
    "# View the top few rows\n",
    "df_balanced.head()\n"
   ]
  },
  {
   "cell_type": "code",
   "execution_count": 25,
   "id": "fffc50d6",
   "metadata": {},
   "outputs": [],
   "source": [
    "df_balanced = df_balanced.drop(columns=[\"name\"])\n"
   ]
  },
  {
   "cell_type": "code",
   "execution_count": 14,
   "id": "4e40f99e",
   "metadata": {},
   "outputs": [],
   "source": [
    "df_balanced.to_csv(\"FlavorIntensity_ANOVA_Dataset.csv\", index=False)\n"
   ]
  },
  {
   "cell_type": "code",
   "execution_count": null,
   "id": "14bbb62f",
   "metadata": {},
   "outputs": [],
   "source": []
  }
 ],
 "metadata": {
  "kernelspec": {
   "display_name": "Python 3 (ipykernel)",
   "language": "python",
   "name": "python3"
  },
  "language_info": {
   "codemirror_mode": {
    "name": "ipython",
    "version": 3
   },
   "file_extension": ".py",
   "mimetype": "text/x-python",
   "name": "python",
   "nbconvert_exporter": "python",
   "pygments_lexer": "ipython3",
   "version": "3.11.5"
  }
 },
 "nbformat": 4,
 "nbformat_minor": 5
}
